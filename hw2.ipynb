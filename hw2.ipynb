{
 "cells": [
  {
   "cell_type": "markdown",
   "metadata": {},
   "source": [
    "# Homework 2: How to weaponize number theory and algebra"
   ]
  },
  {
   "cell_type": "markdown",
   "metadata": {},
   "source": [
    "*Expected due date:* May 4, 2021 (Tuesday)"
   ]
  },
  {
   "cell_type": "markdown",
   "metadata": {},
   "source": [
    "This homework helps you get a grasp in using SageMath for doing computations in number theory and algebra.\n",
    "This *should* be a bit easier than the previous homework."
   ]
  },
  {
   "cell_type": "markdown",
   "metadata": {},
   "source": [
    "This homework has 20 points in total.\n",
    "\n",
    "If any, please direct all your questions and clarifications about this homework in the `#hw2-help` channel on \n",
    "the Discord server."
   ]
  },
  {
   "cell_type": "markdown",
   "metadata": {},
   "source": [
    "## Getting started"
   ]
  },
  {
   "cell_type": "markdown",
   "metadata": {},
   "source": [
    "SageMath is what you call a *computer algebra system*, a kind of software that can manipulate mathematical\n",
    "expressions and objects in a way similar to how mathematicans do it manually.\n",
    "\n",
    "It covers a lot of fields of math (from undergrad to research-level) so it's likely that we'll just\n",
    "scratch the surface in terms of features for this course.\n",
    "In particular, we'll use SageMath for its very efficient implementations of number-theoretic algorithms \n",
    "and various tools to deal with algebraic structures that are widely used in cryptography.\n",
    "\n",
    "*Side note:* I also used SageMath (and also Python) for my undergrad thesis, so I should have enough\n",
    "experience to help you out, so ask away at the `#sagemath-help` channel!"
   ]
  },
  {
   "cell_type": "markdown",
   "metadata": {},
   "source": [
    "## Some reminders"
   ]
  },
  {
   "cell_type": "markdown",
   "metadata": {},
   "source": [
    "Before starting, please make sure you have selected the correct kernel.\n",
    "On the top right corner of the notebook, it should say **SageMath 9.2**, not Python 3.\n",
    "\n",
    "You may find the following pages from the SageMath docs helpful:\n",
    "* https://doc.sagemath.org/html/en/reference/finite_rings/sage/rings/finite_rings/integer_mod.html\n",
    "* https://doc.sagemath.org/html/en/thematic_tutorials/numtheory_rsa.html\n",
    "* https://doc.sagemath.org/html/en/constructions/number_theory.html"
   ]
  },
  {
   "cell_type": "markdown",
   "metadata": {},
   "source": [
    "## Factoring [4 pts]"
   ]
  },
  {
   "cell_type": "markdown",
   "metadata": {},
   "source": [
    "Not all composite numbers are created equally.\n",
    "On one end, you have prime powers, numbers of the form $p^n$ for some prime $p$ and integer $n \\ge 1$.\n",
    "These take almost instantly to be factored.\n",
    "On the other end, you have semprimes, numbers of the form $pq$ for distinct primes $p$ and $q$.\n",
    "Depending on the difference of $p$ and $q$, these could take a very long time to factor!"
   ]
  },
  {
   "cell_type": "markdown",
   "metadata": {},
   "source": [
    "Here are two 300-bit numbers, one of them is a prime power, while the other one is a semiprime.\n",
    "Identify which is which, and factor both of them completely.\n",
    "\n",
    "*Note:* You are free to use any tool (not necessarily SageMath) to factor integers."
   ]
  },
  {
   "cell_type": "code",
   "execution_count": 1,
   "metadata": {},
   "outputs": [],
   "source": [
    "n1 = 664922854477460304521274345132525020049169433616579424626190476175164425470051684475963537\n",
    "n2 = 815232525002106039711910919718739685613494749694357856876487283270632511964698994473857279"
   ]
  },
  {
   "cell_type": "code",
   "execution_count": 2,
   "metadata": {},
   "outputs": [
    {
     "name": "stdout",
     "output_type": "stream",
     "text": [
      "Factorization of the prime power n1:\n",
      "664922854477460304521274345132525020049169433616579424626190476175164425470051684475963537 =\n",
      "17^73\n",
      "17 is prime therefore the factorization is correct\n"
     ]
    }
   ],
   "source": [
    "print(\"Factorization of the prime power n1:\")\n",
    "print(\"664922854477460304521274345132525020049169433616579424626190476175164425470051684475963537 =\")\n",
    "print(factor(n1))\n",
    "print(\"17 is prime therefore the factorization is correct\")"
   ]
  },
  {
   "cell_type": "code",
   "execution_count": 3,
   "metadata": {},
   "outputs": [
    {
     "name": "stdout",
     "output_type": "stream",
     "text": [
      "Factorization of the semiprime n2:\n",
      "815232525002106039711910919718739685613494749694357856876487283270632511964698994473857279 =\n",
      "742857850920988617460968905283991580778189743*1097427353014291952485159183035484483532946353\n",
      "Is 742857850920988617460968905283991580778189743 prime? True\n",
      "Is 1097427353014291952485159183035484483532946353 prime? True\n",
      "Both 742857850920988617460968905283991580778189743 and 1097427353014291952485159183035484483532946353 are primes therefore the factorization is correct\n"
     ]
    }
   ],
   "source": [
    "print(\"Factorization of the semiprime n2:\")\n",
    "print(\"815232525002106039711910919718739685613494749694357856876487283270632511964698994473857279 =\")\n",
    "n2a = 742857850920988617460968905283991580778189743\n",
    "n2b = 1097427353014291952485159183035484483532946353\n",
    "print(str(n2a) + \"*\" + str(n2b))\n",
    "print(\"Is \" + str(n2a) + \" prime? \" + str(n2a.is_prime()))\n",
    "print(\"Is \" + str(n2b) + \" prime? \" + str(n2b.is_prime()))\n",
    "print(\"Both 742857850920988617460968905283991580778189743 and 1097427353014291952485159183035484483532946353 are primes therefore the factorization is correct\")\n",
    "\n",
    "# Factorization found by running the following code for 2 hours:\n",
    "# v = qsieve(n2)\n",
    "# v"
   ]
  },
  {
   "cell_type": "code",
   "execution_count": 4,
   "metadata": {},
   "outputs": [
    {
     "name": "stdout",
     "output_type": "stream",
     "text": [
      "Is the factorization of n1 correct? True\n",
      "Is the factorization of n2 correct? True\n"
     ]
    }
   ],
   "source": [
    "# just double checking if the factorization is correct\n",
    "\n",
    "print(\"Is the factorization of n1 correct? \" + str(17**73 == n1))\n",
    "print(\"Is the factorization of n2 correct? \" + str(n2a*n2b == n2))"
   ]
  },
  {
   "cell_type": "markdown",
   "metadata": {},
   "source": [
    "## Quadratic residues [4 pts]"
   ]
  },
  {
   "cell_type": "markdown",
   "metadata": {},
   "source": [
    "In the lecture notes, we have seen how to do arithmetic modulo $n$.\n",
    "Now what does it mean to take the square root modulo an integer?\n",
    "More concretely: How can Bob tell whether a given number $a$ is equal to a square modulo $p$?\n",
    "\n",
    "Suppose that Alice asks Bob whether $181$ is a square modulo $1223$.\n",
    "One way for Bob to answer Alice's question is by constructing a table of squares modulo $1223$:\n",
    "$$\n",
    "\\begin{array}{r|cccccccc}\n",
    "c & 1 & 2 & 3 & \\cdots & 34 & 35 & 36 & \\cdots \\\\ \\hline\n",
    "c^2 \\bmod 1223 & 1 & 4 & 9 & \\cdots & 1156 & 2 & 73 & \\cdots \\\\\n",
    "\\end{array}\n",
    "$$\n",
    "\n",
    "Bob eventually found that $437^2 \\equiv 181 \\pmod{1223}$, thus the answer to her question is \n",
    "that $181$ is indeed a square modulo $1223$.\n",
    "Meanwhile, if Alice is sufficiently motivated to continue the table all the way up to \n",
    "$1222^2 \\bmod 1223$, she can verify that the number $385$ is not a square modulo $1223$, because \n",
    "it does not appear in her table."
   ]
  },
  {
   "cell_type": "markdown",
   "metadata": {},
   "source": [
    "**Definition.** Let $p$ be an odd prime number and let $a$ be a number with $p \\nmid a$\n",
    "($p$ does not divide $a$).\n",
    "We say that $a$ is a *quadratic residue modulo $p$* if $a$ is a square modulo $p$, i.e., \n",
    "if there is a number $c$ so that $c^2 \\equiv a \\pmod{p}$.\n",
    "If $a$ is not a square modulo $p$, i.e., if there does not exist such number $c$, then $a$ \n",
    "is called a *quadratic nonresidue modulo $p$*."
   ]
  },
  {
   "cell_type": "markdown",
   "metadata": {},
   "source": [
    "In the list below, there are four quadratic nonresidues and one quadratic residue.\n",
    "Find the quadratic residue in the list and then calculate its two square roots.\n",
    "Yes, there are two of them since if $c^2 \\equiv a \\pmod{p}$, then $(-c)^2 \\equiv a \\pmod{p}$."
   ]
  },
  {
   "cell_type": "code",
   "execution_count": 5,
   "metadata": {},
   "outputs": [],
   "source": [
    "p = 101\n",
    "numbers = [42, 56, 7, 63, 91]"
   ]
  },
  {
   "cell_type": "code",
   "execution_count": 6,
   "metadata": {},
   "outputs": [
    {
     "name": "stdout",
     "output_type": "stream",
     "text": [
      "The quadratic residue is 56\n",
      "The roots of it are the following:\n",
      "[37, 64]\n"
     ]
    }
   ],
   "source": [
    "c_list = []\n",
    "for n in numbers:\n",
    "    for i in range(p):\n",
    "        if ((i**2)%p) == n:\n",
    "            quad_res = n\n",
    "            c_list.append(i)\n",
    "    \n",
    "print(\"The quadratic residue is \" + str(quad_res))\n",
    "print(\"The roots of it are the following:\")\n",
    "print(c_list)"
   ]
  },
  {
   "cell_type": "markdown",
   "metadata": {},
   "source": [
    "## Polynomial GCD [4 pts]"
   ]
  },
  {
   "cell_type": "markdown",
   "metadata": {},
   "source": [
    "Because $K[x]$ (the ring of polynomials over a field $K$) has similarities with the ring of integers,\n",
    "namely that the division theorem also applies to $K[x]$,\n",
    "the notion of a greatest common divisor (gcd) still holds, and Euclid's algorithm carries over to $K[x]$\n",
    "seamlessly.\n",
    "(In abstract algebra, we call them [*Euclidean domains*](https://en.wikipedia.org/wiki/Euclidean_domain).)"
   ]
  },
  {
   "cell_type": "markdown",
   "metadata": {},
   "source": [
    "We make a polynomial ring in $x$ where the coefficients are from $\\mathbb{Z}_2$ as follows:"
   ]
  },
  {
   "cell_type": "code",
   "execution_count": 7,
   "metadata": {},
   "outputs": [],
   "source": [
    "## Integers(2) is the ring of integers mod 2, which is also a field\n",
    "K.<x> = PolynomialRing(Integers(2))"
   ]
  },
  {
   "cell_type": "code",
   "execution_count": 8,
   "metadata": {},
   "outputs": [
    {
     "data": {
      "text/plain": [
       "Univariate Polynomial Ring in x over Ring of integers modulo 2 (using GF2X)"
      ]
     },
     "execution_count": 8,
     "metadata": {},
     "output_type": "execute_result"
    }
   ],
   "source": [
    "K"
   ]
  },
  {
   "cell_type": "markdown",
   "metadata": {},
   "source": [
    "Write a function called `my_pgcd` that takes in $g(x), h(x) \\in K[x]$ and outputs the \n",
    "polynomial gcd of $g(x)$ and $h(x)$.\n",
    "You may also want to use the built-in `gcd` function to check your outputs."
   ]
  },
  {
   "cell_type": "code",
   "execution_count": 9,
   "metadata": {},
   "outputs": [],
   "source": [
    "def my_pgcd(g, h):\n",
    "    if h == 0:\n",
    "        return g\n",
    "    return my_pgcd(h, g%h)"
   ]
  },
  {
   "cell_type": "code",
   "execution_count": 10,
   "metadata": {},
   "outputs": [],
   "source": [
    "# if your function works properly, no error should appear when running this line\n",
    "assert my_pgcd(x^6 + x^5 + x^3 + x^2 + x + 1, x^4 + x^3) == x + 1"
   ]
  },
  {
   "cell_type": "markdown",
   "metadata": {},
   "source": [
    "## Key exchange gone wrong??? [8 pts]"
   ]
  },
  {
   "cell_type": "markdown",
   "metadata": {},
   "source": [
    "One of the earliest developments in public-key cryptography was the *Diffie–Hellman key exchange protocol*.\n",
    "In a nutshell, Diffie–Hellman works like this:\n",
    "1. Alice and Bob agree to work in $\\mathbb{Z}_{23}^*$, the multiplicative group of integers modulo $23$,\n",
    "and use $g = 5$ (which is a generator or primitive root of $\\mathbb{Z}_{23}^*$) as the base.\n",
    "\n",
    "2. Alice chooses a secret integer $a = 4$, then sends Bob $A = g^a \\,\\text{(in $\\mathbb{Z}_{p}^*$)}$.\n",
    "    \n",
    "   Here, $A = 5^4 = 4 \\,\\text{(in $\\mathbb{Z}_{23}^*$)}$.\n",
    "   \n",
    "3. Bob chooses a secret integer $b = 3$, then sends Alice $B = g^b \\,\\text{(in $\\mathbb{Z}_{p}^*$)}$.\n",
    "    \n",
    "   Here, $B = 5^3 = 10 \\,\\text{(in $\\mathbb{Z}_{23}^*$)}$.\n",
    "\n",
    "4. Alice computes $s = B^a \\,\\text{(in $\\mathbb{Z}_{p}^*$)}$.\n",
    "\n",
    "   $s = 10^4 = 18 \\,\\text{(in $\\mathbb{Z}_{23}^*$)}$\n",
    "   \n",
    "4. Bob computes $s = A^b \\,\\text{(in $\\mathbb{Z}_{p}^*$)}$.\n",
    "\n",
    "   $s = 4^3 = 18 \\,\\text{(in $\\mathbb{Z}_{23}^*$)}$\n",
    "   \n",
    "5. Alice and Bob now share a secret, which is $s = 18$.\n",
    "\n",
    "It relies on the (yet unproven) hardness of the Diffie–Hellman problem:\n",
    "> Let $G$ be a finite (multiplicative) cyclic group. Given $g$, $g^a$, $g^b$, all of which are elements of $G$,\n",
    "compute for $g^{ab}$.\n",
    "\n",
    "Typically you would use $\\mathbb{Z}_p^*$ as your finite cyclic group.\n",
    "Now let's say Alice and Bob decided to do Diffie–Hellman using an *additive* group $(\\mathbb{Z}_p, +)$ instead.\n",
    "What could go wrong?\n",
    "\n",
    "In an additive group, the associated operation is addition (instead of multiplication), and the \"exponentiation\" works like multiplying by a constant."
   ]
  },
  {
   "cell_type": "markdown",
   "metadata": {},
   "source": [
    "Suppose you already have $p$, $g$, $A = a\\cdot g$, and $B = b \\cdot g$, defined as follows:"
   ]
  },
  {
   "cell_type": "code",
   "execution_count": 11,
   "metadata": {},
   "outputs": [],
   "source": [
    "p = 26252224380041047747122591194022887149606289495583988602108153223076105239345713403708414193367723342835700767028826621933301528577621675004701754797657444383241868615529900860134429255439131226429056482990442958014081622857451797053181679889832593668643778150520532513821598194302936931987644628206366307016154187413361996418218134120157336904570688208025410591110777302835970098122474666165460550417030400590807644619120346173596400270510603471434129931967590413985206434931078061344456864191168422370416631720528602666860196571809429832072103925681951495398210296474633895268747642683340902741844837855876639885661"
   ]
  },
  {
   "cell_type": "code",
   "execution_count": 12,
   "metadata": {},
   "outputs": [],
   "source": [
    "Zp = Integers(p)"
   ]
  },
  {
   "cell_type": "code",
   "execution_count": 13,
   "metadata": {},
   "outputs": [],
   "source": [
    "g = Zp(10358660391518567616235732436992715220505399810845827441257333108393443171959889069099715138044684141838118325500386741093800010558270378466883199825399330676381466009675928281488401043191332587062637256044696977384105044684466794686621421205589974180482443673243898688602649369028804054011906974785078294135687717039605783356266531235356135655782238895109470371160490304119821561072702573864453584670985173202273982561449531592431520177035322176963872128032236270259466337044311497471533890454091926268065712857277627251241513856846766590882663345959517800443199041098980907470045584969568016546154101486496241468201)"
   ]
  },
  {
   "cell_type": "code",
   "execution_count": 14,
   "metadata": {},
   "outputs": [],
   "source": [
    "A = Zp(20782609745887880863084861164817249644924468778279537828708132307538860361752107659413744391033231295802952551707126922034793630858200019397812144632753634677474169838613791886799852405274342993668918505580248151348428078538557152645014288314096818927299400546703691486452341016537368653345507885348897354018203545337816947203535525392237362546715226227331771463778302927380311598270422291713440018223431224064432559679726313089126054258132462588337710509735129504402910939762843747281910591718386954799004365155651056783262429118602808290058749065586300403862436089590093386848556545179733658861380177829783058929436)"
   ]
  },
  {
   "cell_type": "code",
   "execution_count": 15,
   "metadata": {},
   "outputs": [],
   "source": [
    "B = Zp(15652288550587494861877284061022581048876566461069217909821769631889690057460105326867911142783886861327646427717099133808430792895834938107266178689476692623686149419620572377238190972372792877990229731096982385952118208285712974512553297363466052295585111005436433385888720359053256192304284989071596582442026662910185323452995814587766386534864308324395516118953743865708020444605410498568021948384059886368186871833659783431183873460050303589135767256406110172836808069604572530592421554590407545064725362034890296313995545962574180455654390941548009781096282021384272056883168764941369041848165926711813244361023)"
   ]
  },
  {
   "cell_type": "markdown",
   "metadata": {},
   "source": [
    "Find out what the shared secret $s = (ab)\\cdot g$ is.\n",
    "\n",
    "*Note:* You will be docked points if you use any division operations, such as doing `A / g`."
   ]
  },
  {
   "cell_type": "code",
   "execution_count": 16,
   "metadata": {},
   "outputs": [],
   "source": [
    "gInv = g.inverse_of_unit()"
   ]
  },
  {
   "cell_type": "code",
   "execution_count": 17,
   "metadata": {},
   "outputs": [
    {
     "name": "stdout",
     "output_type": "stream",
     "text": [
      "The value of s is:\n"
     ]
    },
    {
     "data": {
      "text/plain": [
       "2550834175460151232475225102498116410526397584379687765072333637768728614160405520702944601006855407289655105344039920389230603832691118383126762465221838309559950593019786927746313328878458107013341164958661619654546677310796859986215970146650864823464476335027781913693140504074056287333028124212542430118278676044379468927533114473508447864390506461877873302542853292106042492394494438509804236270036121539574303913192107460131761620204701486350256749010840981427244056365987878227684702087114387079030804310548546867375029021886736749142730379864582031554089635947841170488598820652371636579960535209216051580806"
      ]
     },
     "execution_count": 17,
     "metadata": {},
     "output_type": "execute_result"
    }
   ],
   "source": [
    "print(\"The value of s is:\")\n",
    "Zp(A*B*gInv)"
   ]
  },
  {
   "cell_type": "code",
   "execution_count": null,
   "metadata": {},
   "outputs": [],
   "source": []
  }
 ],
 "metadata": {
  "kernelspec": {
   "display_name": "SageMath 9.0",
   "language": "sage",
   "name": "sagemath"
  },
  "language_info": {
   "codemirror_mode": {
    "name": "ipython",
    "version": 3
   },
   "file_extension": ".py",
   "mimetype": "text/x-python",
   "name": "python",
   "nbconvert_exporter": "python",
   "pygments_lexer": "ipython3",
   "version": "3.8.5"
  }
 },
 "nbformat": 4,
 "nbformat_minor": 4
}
